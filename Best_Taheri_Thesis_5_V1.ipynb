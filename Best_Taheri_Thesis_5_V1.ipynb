{
  "metadata": {
    "accelerator": "GPU",
    "colab": {
      "provenance": [],
      "include_colab_link": true
    },
    "gpuClass": "standard",
    "kernelspec": {
      "display_name": "Python 3",
      "name": "python3"
    },
    "language_info": {
      "name": "python"
    }
  },
  "nbformat_minor": 0,
  "nbformat": 4,
  "cells": [
    {
      "cell_type": "markdown",
      "metadata": {
        "id": "view-in-github",
        "colab_type": "text"
      },
      "source": [
        "<a href=\"https://colab.research.google.com/github/ZaimaSartajTaheri/Blood_Donate/blob/master/Best_Taheri_Thesis_5_V1.ipynb\" target=\"_parent\"><img src=\"https://colab.research.google.com/assets/colab-badge.svg\" alt=\"Open In Colab\"/></a>"
      ]
    },
    {
      "cell_type": "code",
      "source": [
        "import os\n",
        "from glob import glob\n",
        "import numpy as np\n",
        "import matplotlib.pyplot as plt\n",
        "import pandas as pd\n",
        "import matplotlib.pyplot as plt\n",
        "import re\n",
        "import nltk\n",
        "from sklearn.model_selection import train_test_split\n",
        "from sklearn.metrics import classification_report,confusion_matrix\n",
        "import tensorflow as tf\n",
        "from tensorflow import keras\n",
        "from tensorflow.keras import layers\n",
        "from tensorflow.keras.utils import load_img, img_to_array\n",
        "from sklearn.utils import shuffle\n"
      ],
      "metadata": {
        "id": "p8g2K9qgQEe0"
      },
      "execution_count": null,
      "outputs": []
    },
    {
      "cell_type": "code",
      "source": [
        "from google.colab import drive\n",
        "drive.mount('/content/drive')"
      ],
      "metadata": {
        "colab": {
          "base_uri": "https://localhost:8080/"
        },
        "id": "jICywsxSQJp6",
        "outputId": "141c3400-8daa-42cd-f44b-a8b155463103"
      },
      "execution_count": null,
      "outputs": [
        {
          "output_type": "stream",
          "name": "stdout",
          "text": [
            "Mounted at /content/drive\n"
          ]
        }
      ]
    },
    {
      "cell_type": "code",
      "source": [
        "# ! mkdir ~/.kaggle\n",
        "# ! cp kaggle.json ~/.kaggle\n",
        "# !chmod 600 ~/.kaggle/kaggle.json"
      ],
      "metadata": {
        "id": "N90l5eAyQNVz"
      },
      "execution_count": null,
      "outputs": []
    },
    {
      "cell_type": "code",
      "source": [
        "# ! kaggle competitions download multimodal-sentiment-analysis-cuet-nlp"
      ],
      "metadata": {
        "id": "S0YammG1QVxU"
      },
      "execution_count": null,
      "outputs": []
    },
    {
      "cell_type": "code",
      "source": [
        "# !unzip multimodal-sentiment-analysis-cuet-nlp"
      ],
      "metadata": {
        "id": "i5vlmRfYQeap"
      },
      "execution_count": null,
      "outputs": []
    },
    {
      "cell_type": "code",
      "source": [
        "dataset = pd.read_csv(\"/content/drive/MyDrive/TaheriThesis/Dataset/train.csv\")\n",
        "dataset"
      ],
      "metadata": {
        "colab": {
          "base_uri": "https://localhost:8080/",
          "height": 423
        },
        "id": "90puN9JAcs29",
        "outputId": "d2328265-9e14-43a6-cf9d-3a0e1766f78c"
      },
      "execution_count": null,
      "outputs": [
        {
          "output_type": "execute_result",
          "data": {
            "text/plain": [
              "                                             image_name  \\\n",
              "0     69726087_2287869761319104_2019941278430527488_...   \n",
              "1     67075210_2461249007528800_1687503280642457600_...   \n",
              "2     66277813_359104348108873_2083668203577278464_n...   \n",
              "3     66140341_359531411399500_7237400573891313664_n...   \n",
              "4     65021504_2484453855120831_2597787303715799040_...   \n",
              "...                                                 ...   \n",
              "3625                                       7000048.jpeg   \n",
              "3626                                       7000049.jpeg   \n",
              "3627                                       7000050.jpeg   \n",
              "3628                                       7000051.jpeg   \n",
              "3629                                       7000052.jpeg   \n",
              "\n",
              "                                               Captions Label_Sentiment  Label  \n",
              "0     মাঝরাইতে মাঞ্জা মেরে সাজুগুজু করতে মন চাইতেছে।...           happy      0  \n",
              "1     প্রচুর দেরি করে ফেলছি রে ভাইইইইইইইইই\\nআজাইরা ন...           happy      0  \n",
              "2                                শুভ জন্মদিন ❤\\nলেজেন্ড           happy      0  \n",
              "3     একা একা খেলে বিশ্বের সেরা হওয়া যায় কিন্তু বিশ্...             sad      4  \n",
              "4     একটা পাবলিক ভার্সিটিতে এসে লাইভ রিপোর্টিং করতে...           angry      1  \n",
              "...                                                 ...             ...    ...  \n",
              "3625    আমি অত্যন্ত আতঙ্কিত. যদি সবকিছু ধ্বংস করে দেয়?            fear      3  \n",
              "3626  আমি অত্যন্ত আতঙ্কিত. এটা বাস্তব হয়ে গেলে কি হবে?            fear      3  \n",
              "3627     আমি অত্যন্ত আতঙ্কিত. যদি কেউ আমাকে আক্রমণ করে?            fear      3  \n",
              "3628  আমি আমার পথ খুঁজে পাচ্ছি না. যদি আমি এখানে চির...            fear      3  \n",
              "3629      আমি অত্যন্ত আতঙ্কিত. আমি যদি কোনদিন বের না হই            fear      3  \n",
              "\n",
              "[3630 rows x 4 columns]"
            ],
            "text/html": [
              "\n",
              "  <div id=\"df-1c0e173c-7c63-493b-bcac-2233614ac107\">\n",
              "    <div class=\"colab-df-container\">\n",
              "      <div>\n",
              "<style scoped>\n",
              "    .dataframe tbody tr th:only-of-type {\n",
              "        vertical-align: middle;\n",
              "    }\n",
              "\n",
              "    .dataframe tbody tr th {\n",
              "        vertical-align: top;\n",
              "    }\n",
              "\n",
              "    .dataframe thead th {\n",
              "        text-align: right;\n",
              "    }\n",
              "</style>\n",
              "<table border=\"1\" class=\"dataframe\">\n",
              "  <thead>\n",
              "    <tr style=\"text-align: right;\">\n",
              "      <th></th>\n",
              "      <th>image_name</th>\n",
              "      <th>Captions</th>\n",
              "      <th>Label_Sentiment</th>\n",
              "      <th>Label</th>\n",
              "    </tr>\n",
              "  </thead>\n",
              "  <tbody>\n",
              "    <tr>\n",
              "      <th>0</th>\n",
              "      <td>69726087_2287869761319104_2019941278430527488_...</td>\n",
              "      <td>মাঝরাইতে মাঞ্জা মেরে সাজুগুজু করতে মন চাইতেছে।...</td>\n",
              "      <td>happy</td>\n",
              "      <td>0</td>\n",
              "    </tr>\n",
              "    <tr>\n",
              "      <th>1</th>\n",
              "      <td>67075210_2461249007528800_1687503280642457600_...</td>\n",
              "      <td>প্রচুর দেরি করে ফেলছি রে ভাইইইইইইইইই\\nআজাইরা ন...</td>\n",
              "      <td>happy</td>\n",
              "      <td>0</td>\n",
              "    </tr>\n",
              "    <tr>\n",
              "      <th>2</th>\n",
              "      <td>66277813_359104348108873_2083668203577278464_n...</td>\n",
              "      <td>শুভ জন্মদিন ❤\\nলেজেন্ড</td>\n",
              "      <td>happy</td>\n",
              "      <td>0</td>\n",
              "    </tr>\n",
              "    <tr>\n",
              "      <th>3</th>\n",
              "      <td>66140341_359531411399500_7237400573891313664_n...</td>\n",
              "      <td>একা একা খেলে বিশ্বের সেরা হওয়া যায় কিন্তু বিশ্...</td>\n",
              "      <td>sad</td>\n",
              "      <td>4</td>\n",
              "    </tr>\n",
              "    <tr>\n",
              "      <th>4</th>\n",
              "      <td>65021504_2484453855120831_2597787303715799040_...</td>\n",
              "      <td>একটা পাবলিক ভার্সিটিতে এসে লাইভ রিপোর্টিং করতে...</td>\n",
              "      <td>angry</td>\n",
              "      <td>1</td>\n",
              "    </tr>\n",
              "    <tr>\n",
              "      <th>...</th>\n",
              "      <td>...</td>\n",
              "      <td>...</td>\n",
              "      <td>...</td>\n",
              "      <td>...</td>\n",
              "    </tr>\n",
              "    <tr>\n",
              "      <th>3625</th>\n",
              "      <td>7000048.jpeg</td>\n",
              "      <td>আমি অত্যন্ত আতঙ্কিত. যদি সবকিছু ধ্বংস করে দেয়?</td>\n",
              "      <td>fear</td>\n",
              "      <td>3</td>\n",
              "    </tr>\n",
              "    <tr>\n",
              "      <th>3626</th>\n",
              "      <td>7000049.jpeg</td>\n",
              "      <td>আমি অত্যন্ত আতঙ্কিত. এটা বাস্তব হয়ে গেলে কি হবে?</td>\n",
              "      <td>fear</td>\n",
              "      <td>3</td>\n",
              "    </tr>\n",
              "    <tr>\n",
              "      <th>3627</th>\n",
              "      <td>7000050.jpeg</td>\n",
              "      <td>আমি অত্যন্ত আতঙ্কিত. যদি কেউ আমাকে আক্রমণ করে?</td>\n",
              "      <td>fear</td>\n",
              "      <td>3</td>\n",
              "    </tr>\n",
              "    <tr>\n",
              "      <th>3628</th>\n",
              "      <td>7000051.jpeg</td>\n",
              "      <td>আমি আমার পথ খুঁজে পাচ্ছি না. যদি আমি এখানে চির...</td>\n",
              "      <td>fear</td>\n",
              "      <td>3</td>\n",
              "    </tr>\n",
              "    <tr>\n",
              "      <th>3629</th>\n",
              "      <td>7000052.jpeg</td>\n",
              "      <td>আমি অত্যন্ত আতঙ্কিত. আমি যদি কোনদিন বের না হই</td>\n",
              "      <td>fear</td>\n",
              "      <td>3</td>\n",
              "    </tr>\n",
              "  </tbody>\n",
              "</table>\n",
              "<p>3630 rows × 4 columns</p>\n",
              "</div>\n",
              "      <button class=\"colab-df-convert\" onclick=\"convertToInteractive('df-1c0e173c-7c63-493b-bcac-2233614ac107')\"\n",
              "              title=\"Convert this dataframe to an interactive table.\"\n",
              "              style=\"display:none;\">\n",
              "        \n",
              "  <svg xmlns=\"http://www.w3.org/2000/svg\" height=\"24px\"viewBox=\"0 0 24 24\"\n",
              "       width=\"24px\">\n",
              "    <path d=\"M0 0h24v24H0V0z\" fill=\"none\"/>\n",
              "    <path d=\"M18.56 5.44l.94 2.06.94-2.06 2.06-.94-2.06-.94-.94-2.06-.94 2.06-2.06.94zm-11 1L8.5 8.5l.94-2.06 2.06-.94-2.06-.94L8.5 2.5l-.94 2.06-2.06.94zm10 10l.94 2.06.94-2.06 2.06-.94-2.06-.94-.94-2.06-.94 2.06-2.06.94z\"/><path d=\"M17.41 7.96l-1.37-1.37c-.4-.4-.92-.59-1.43-.59-.52 0-1.04.2-1.43.59L10.3 9.45l-7.72 7.72c-.78.78-.78 2.05 0 2.83L4 21.41c.39.39.9.59 1.41.59.51 0 1.02-.2 1.41-.59l7.78-7.78 2.81-2.81c.8-.78.8-2.07 0-2.86zM5.41 20L4 18.59l7.72-7.72 1.47 1.35L5.41 20z\"/>\n",
              "  </svg>\n",
              "      </button>\n",
              "      \n",
              "  <style>\n",
              "    .colab-df-container {\n",
              "      display:flex;\n",
              "      flex-wrap:wrap;\n",
              "      gap: 12px;\n",
              "    }\n",
              "\n",
              "    .colab-df-convert {\n",
              "      background-color: #E8F0FE;\n",
              "      border: none;\n",
              "      border-radius: 50%;\n",
              "      cursor: pointer;\n",
              "      display: none;\n",
              "      fill: #1967D2;\n",
              "      height: 32px;\n",
              "      padding: 0 0 0 0;\n",
              "      width: 32px;\n",
              "    }\n",
              "\n",
              "    .colab-df-convert:hover {\n",
              "      background-color: #E2EBFA;\n",
              "      box-shadow: 0px 1px 2px rgba(60, 64, 67, 0.3), 0px 1px 3px 1px rgba(60, 64, 67, 0.15);\n",
              "      fill: #174EA6;\n",
              "    }\n",
              "\n",
              "    [theme=dark] .colab-df-convert {\n",
              "      background-color: #3B4455;\n",
              "      fill: #D2E3FC;\n",
              "    }\n",
              "\n",
              "    [theme=dark] .colab-df-convert:hover {\n",
              "      background-color: #434B5C;\n",
              "      box-shadow: 0px 1px 3px 1px rgba(0, 0, 0, 0.15);\n",
              "      filter: drop-shadow(0px 1px 2px rgba(0, 0, 0, 0.3));\n",
              "      fill: #FFFFFF;\n",
              "    }\n",
              "  </style>\n",
              "\n",
              "      <script>\n",
              "        const buttonEl =\n",
              "          document.querySelector('#df-1c0e173c-7c63-493b-bcac-2233614ac107 button.colab-df-convert');\n",
              "        buttonEl.style.display =\n",
              "          google.colab.kernel.accessAllowed ? 'block' : 'none';\n",
              "\n",
              "        async function convertToInteractive(key) {\n",
              "          const element = document.querySelector('#df-1c0e173c-7c63-493b-bcac-2233614ac107');\n",
              "          const dataTable =\n",
              "            await google.colab.kernel.invokeFunction('convertToInteractive',\n",
              "                                                     [key], {});\n",
              "          if (!dataTable) return;\n",
              "\n",
              "          const docLinkHtml = 'Like what you see? Visit the ' +\n",
              "            '<a target=\"_blank\" href=https://colab.research.google.com/notebooks/data_table.ipynb>data table notebook</a>'\n",
              "            + ' to learn more about interactive tables.';\n",
              "          element.innerHTML = '';\n",
              "          dataTable['output_type'] = 'display_data';\n",
              "          await google.colab.output.renderOutput(dataTable, element);\n",
              "          const docLink = document.createElement('div');\n",
              "          docLink.innerHTML = docLinkHtml;\n",
              "          element.appendChild(docLink);\n",
              "        }\n",
              "      </script>\n",
              "    </div>\n",
              "  </div>\n",
              "  "
            ]
          },
          "metadata": {},
          "execution_count": 6
        }
      ]
    },
    {
      "cell_type": "code",
      "source": [
        "dataset = shuffle(dataset, random_state = 10)\n",
        "dataset"
      ],
      "metadata": {
        "colab": {
          "base_uri": "https://localhost:8080/",
          "height": 423
        },
        "id": "OKs9e7IJfejR",
        "outputId": "389c5859-80da-4376-c948-96bf540b0b72"
      },
      "execution_count": null,
      "outputs": [
        {
          "output_type": "execute_result",
          "data": {
            "text/plain": [
              "                                             image_name  \\\n",
              "101   317614457_3631142493877242_4333131209344021325...   \n",
              "1178                                           4492.jpg   \n",
              "2661                                           3258.jpg   \n",
              "3170                                           2761.jpg   \n",
              "437   342007953_579707654225265_2380627006671341447_...   \n",
              "...                                                 ...   \n",
              "3441                                           3716.jpg   \n",
              "1344                                           1241.jpg   \n",
              "527                                             149.jpg   \n",
              "3197                                           2862.jpg   \n",
              "1289                                            458.jpg   \n",
              "\n",
              "                                               Captions Label_Sentiment  Label  \n",
              "101                     আমাদের শেষ উৎসবের সূচনা … … …,🫠             sad      4  \n",
              "1178  ডটিং ভাই, উদীয়মান ট্রেন্ডসেটর: প্রিন্স জর্জ দ...           happy      0  \n",
              "2661  এমনকি বৃষ্টিপাতের মধ্য দিয়েও আজ প্রাণবন্ত কার...        surprise      5  \n",
              "3170                 কেন আপনি হতাশ বোধ করছেন? কুইজ নিন:           other      6  \n",
              "437   কমলদহে\\r\\n\\r\\nবি.দ্র : উক্ত খুমটি অনেক গভীর, স...           happy      0  \n",
              "...                                                 ...             ...    ...  \n",
              "3441  আন্তর্জাতিক কম্পিউটার ভিশন সামার স্কুল আইসিভিএ...           other      6  \n",
              "1344                      সব কিছুর মুখোমুখি এবং উত্থান।           angry      1  \n",
              "527                              আমি টাম্বলারকে ভালবাসি           happy      0  \n",
              "3197  চেয়ার, দেয়াল এবং সিলিংগুলি ঢাকা থাকে, আমাদের...           other      6  \n",
              "1289  একটি পার্কিং স্পেসের উপর কলেজের বাচ্চারা। বুলশ...           angry      1  \n",
              "\n",
              "[3630 rows x 4 columns]"
            ],
            "text/html": [
              "\n",
              "  <div id=\"df-27369a94-d706-4732-92bc-59c6baf584d5\">\n",
              "    <div class=\"colab-df-container\">\n",
              "      <div>\n",
              "<style scoped>\n",
              "    .dataframe tbody tr th:only-of-type {\n",
              "        vertical-align: middle;\n",
              "    }\n",
              "\n",
              "    .dataframe tbody tr th {\n",
              "        vertical-align: top;\n",
              "    }\n",
              "\n",
              "    .dataframe thead th {\n",
              "        text-align: right;\n",
              "    }\n",
              "</style>\n",
              "<table border=\"1\" class=\"dataframe\">\n",
              "  <thead>\n",
              "    <tr style=\"text-align: right;\">\n",
              "      <th></th>\n",
              "      <th>image_name</th>\n",
              "      <th>Captions</th>\n",
              "      <th>Label_Sentiment</th>\n",
              "      <th>Label</th>\n",
              "    </tr>\n",
              "  </thead>\n",
              "  <tbody>\n",
              "    <tr>\n",
              "      <th>101</th>\n",
              "      <td>317614457_3631142493877242_4333131209344021325...</td>\n",
              "      <td>আমাদের শেষ উৎসবের সূচনা … … …,🫠</td>\n",
              "      <td>sad</td>\n",
              "      <td>4</td>\n",
              "    </tr>\n",
              "    <tr>\n",
              "      <th>1178</th>\n",
              "      <td>4492.jpg</td>\n",
              "      <td>ডটিং ভাই, উদীয়মান ট্রেন্ডসেটর: প্রিন্স জর্জ দ...</td>\n",
              "      <td>happy</td>\n",
              "      <td>0</td>\n",
              "    </tr>\n",
              "    <tr>\n",
              "      <th>2661</th>\n",
              "      <td>3258.jpg</td>\n",
              "      <td>এমনকি বৃষ্টিপাতের মধ্য দিয়েও আজ প্রাণবন্ত কার...</td>\n",
              "      <td>surprise</td>\n",
              "      <td>5</td>\n",
              "    </tr>\n",
              "    <tr>\n",
              "      <th>3170</th>\n",
              "      <td>2761.jpg</td>\n",
              "      <td>কেন আপনি হতাশ বোধ করছেন? কুইজ নিন:</td>\n",
              "      <td>other</td>\n",
              "      <td>6</td>\n",
              "    </tr>\n",
              "    <tr>\n",
              "      <th>437</th>\n",
              "      <td>342007953_579707654225265_2380627006671341447_...</td>\n",
              "      <td>কমলদহে\\r\\n\\r\\nবি.দ্র : উক্ত খুমটি অনেক গভীর, স...</td>\n",
              "      <td>happy</td>\n",
              "      <td>0</td>\n",
              "    </tr>\n",
              "    <tr>\n",
              "      <th>...</th>\n",
              "      <td>...</td>\n",
              "      <td>...</td>\n",
              "      <td>...</td>\n",
              "      <td>...</td>\n",
              "    </tr>\n",
              "    <tr>\n",
              "      <th>3441</th>\n",
              "      <td>3716.jpg</td>\n",
              "      <td>আন্তর্জাতিক কম্পিউটার ভিশন সামার স্কুল আইসিভিএ...</td>\n",
              "      <td>other</td>\n",
              "      <td>6</td>\n",
              "    </tr>\n",
              "    <tr>\n",
              "      <th>1344</th>\n",
              "      <td>1241.jpg</td>\n",
              "      <td>সব কিছুর মুখোমুখি এবং উত্থান।</td>\n",
              "      <td>angry</td>\n",
              "      <td>1</td>\n",
              "    </tr>\n",
              "    <tr>\n",
              "      <th>527</th>\n",
              "      <td>149.jpg</td>\n",
              "      <td>আমি টাম্বলারকে ভালবাসি</td>\n",
              "      <td>happy</td>\n",
              "      <td>0</td>\n",
              "    </tr>\n",
              "    <tr>\n",
              "      <th>3197</th>\n",
              "      <td>2862.jpg</td>\n",
              "      <td>চেয়ার, দেয়াল এবং সিলিংগুলি ঢাকা থাকে, আমাদের...</td>\n",
              "      <td>other</td>\n",
              "      <td>6</td>\n",
              "    </tr>\n",
              "    <tr>\n",
              "      <th>1289</th>\n",
              "      <td>458.jpg</td>\n",
              "      <td>একটি পার্কিং স্পেসের উপর কলেজের বাচ্চারা। বুলশ...</td>\n",
              "      <td>angry</td>\n",
              "      <td>1</td>\n",
              "    </tr>\n",
              "  </tbody>\n",
              "</table>\n",
              "<p>3630 rows × 4 columns</p>\n",
              "</div>\n",
              "      <button class=\"colab-df-convert\" onclick=\"convertToInteractive('df-27369a94-d706-4732-92bc-59c6baf584d5')\"\n",
              "              title=\"Convert this dataframe to an interactive table.\"\n",
              "              style=\"display:none;\">\n",
              "        \n",
              "  <svg xmlns=\"http://www.w3.org/2000/svg\" height=\"24px\"viewBox=\"0 0 24 24\"\n",
              "       width=\"24px\">\n",
              "    <path d=\"M0 0h24v24H0V0z\" fill=\"none\"/>\n",
              "    <path d=\"M18.56 5.44l.94 2.06.94-2.06 2.06-.94-2.06-.94-.94-2.06-.94 2.06-2.06.94zm-11 1L8.5 8.5l.94-2.06 2.06-.94-2.06-.94L8.5 2.5l-.94 2.06-2.06.94zm10 10l.94 2.06.94-2.06 2.06-.94-2.06-.94-.94-2.06-.94 2.06-2.06.94z\"/><path d=\"M17.41 7.96l-1.37-1.37c-.4-.4-.92-.59-1.43-.59-.52 0-1.04.2-1.43.59L10.3 9.45l-7.72 7.72c-.78.78-.78 2.05 0 2.83L4 21.41c.39.39.9.59 1.41.59.51 0 1.02-.2 1.41-.59l7.78-7.78 2.81-2.81c.8-.78.8-2.07 0-2.86zM5.41 20L4 18.59l7.72-7.72 1.47 1.35L5.41 20z\"/>\n",
              "  </svg>\n",
              "      </button>\n",
              "      \n",
              "  <style>\n",
              "    .colab-df-container {\n",
              "      display:flex;\n",
              "      flex-wrap:wrap;\n",
              "      gap: 12px;\n",
              "    }\n",
              "\n",
              "    .colab-df-convert {\n",
              "      background-color: #E8F0FE;\n",
              "      border: none;\n",
              "      border-radius: 50%;\n",
              "      cursor: pointer;\n",
              "      display: none;\n",
              "      fill: #1967D2;\n",
              "      height: 32px;\n",
              "      padding: 0 0 0 0;\n",
              "      width: 32px;\n",
              "    }\n",
              "\n",
              "    .colab-df-convert:hover {\n",
              "      background-color: #E2EBFA;\n",
              "      box-shadow: 0px 1px 2px rgba(60, 64, 67, 0.3), 0px 1px 3px 1px rgba(60, 64, 67, 0.15);\n",
              "      fill: #174EA6;\n",
              "    }\n",
              "\n",
              "    [theme=dark] .colab-df-convert {\n",
              "      background-color: #3B4455;\n",
              "      fill: #D2E3FC;\n",
              "    }\n",
              "\n",
              "    [theme=dark] .colab-df-convert:hover {\n",
              "      background-color: #434B5C;\n",
              "      box-shadow: 0px 1px 3px 1px rgba(0, 0, 0, 0.15);\n",
              "      filter: drop-shadow(0px 1px 2px rgba(0, 0, 0, 0.3));\n",
              "      fill: #FFFFFF;\n",
              "    }\n",
              "  </style>\n",
              "\n",
              "      <script>\n",
              "        const buttonEl =\n",
              "          document.querySelector('#df-27369a94-d706-4732-92bc-59c6baf584d5 button.colab-df-convert');\n",
              "        buttonEl.style.display =\n",
              "          google.colab.kernel.accessAllowed ? 'block' : 'none';\n",
              "\n",
              "        async function convertToInteractive(key) {\n",
              "          const element = document.querySelector('#df-27369a94-d706-4732-92bc-59c6baf584d5');\n",
              "          const dataTable =\n",
              "            await google.colab.kernel.invokeFunction('convertToInteractive',\n",
              "                                                     [key], {});\n",
              "          if (!dataTable) return;\n",
              "\n",
              "          const docLinkHtml = 'Like what you see? Visit the ' +\n",
              "            '<a target=\"_blank\" href=https://colab.research.google.com/notebooks/data_table.ipynb>data table notebook</a>'\n",
              "            + ' to learn more about interactive tables.';\n",
              "          element.innerHTML = '';\n",
              "          dataTable['output_type'] = 'display_data';\n",
              "          await google.colab.output.renderOutput(dataTable, element);\n",
              "          const docLink = document.createElement('div');\n",
              "          docLink.innerHTML = docLinkHtml;\n",
              "          element.appendChild(docLink);\n",
              "        }\n",
              "      </script>\n",
              "    </div>\n",
              "  </div>\n",
              "  "
            ]
          },
          "metadata": {},
          "execution_count": 7
        }
      ]
    },
    {
      "cell_type": "code",
      "source": [
        "# testset = pd.read_csv(\"test.csv\")\n",
        "# testset"
      ],
      "metadata": {
        "id": "U7_z1T8eUeNC"
      },
      "execution_count": null,
      "outputs": []
    },
    {
      "cell_type": "code",
      "source": [
        "dataset.info()"
      ],
      "metadata": {
        "colab": {
          "base_uri": "https://localhost:8080/"
        },
        "id": "Q13z2W-8c2Qg",
        "outputId": "a15c821a-1c83-4f72-97e1-5eab897c8ad5"
      },
      "execution_count": null,
      "outputs": [
        {
          "output_type": "stream",
          "name": "stdout",
          "text": [
            "<class 'pandas.core.frame.DataFrame'>\n",
            "Int64Index: 3630 entries, 101 to 1289\n",
            "Data columns (total 4 columns):\n",
            " #   Column           Non-Null Count  Dtype \n",
            "---  ------           --------------  ----- \n",
            " 0   image_name       3630 non-null   object\n",
            " 1   Captions         3630 non-null   object\n",
            " 2   Label_Sentiment  3630 non-null   object\n",
            " 3   Label            3630 non-null   int64 \n",
            "dtypes: int64(1), object(3)\n",
            "memory usage: 141.8+ KB\n"
          ]
        }
      ]
    },
    {
      "cell_type": "code",
      "source": [
        "dataset.shape"
      ],
      "metadata": {
        "colab": {
          "base_uri": "https://localhost:8080/"
        },
        "id": "aLNT4PufUnTJ",
        "outputId": "ff682bd2-3b6a-4553-d17b-6bccb118c5e0"
      },
      "execution_count": null,
      "outputs": [
        {
          "output_type": "execute_result",
          "data": {
            "text/plain": [
              "(3630, 4)"
            ]
          },
          "metadata": {},
          "execution_count": 10
        }
      ]
    },
    {
      "cell_type": "code",
      "source": [
        "dataset.columns"
      ],
      "metadata": {
        "colab": {
          "base_uri": "https://localhost:8080/"
        },
        "id": "jCf-B80Ob707",
        "outputId": "3aa268f8-0adc-4ff9-f656-b9971d918b05"
      },
      "execution_count": null,
      "outputs": [
        {
          "output_type": "execute_result",
          "data": {
            "text/plain": [
              "Index(['image_name', 'Captions', 'Label_Sentiment', 'Label'], dtype='object')"
            ]
          },
          "metadata": {},
          "execution_count": 11
        }
      ]
    },
    {
      "cell_type": "code",
      "source": [
        "dataset = dataset[['image_name', 'Captions', 'Label']]\n",
        "dataset.columns"
      ],
      "metadata": {
        "colab": {
          "base_uri": "https://localhost:8080/"
        },
        "id": "f7v4a0jIcN9c",
        "outputId": "22894a90-856d-4add-8004-116cbd0f0e31"
      },
      "execution_count": null,
      "outputs": [
        {
          "output_type": "execute_result",
          "data": {
            "text/plain": [
              "Index(['image_name', 'Captions', 'Label'], dtype='object')"
            ]
          },
          "metadata": {},
          "execution_count": 12
        }
      ]
    },
    {
      "cell_type": "code",
      "source": [
        "# testset.columns"
      ],
      "metadata": {
        "id": "B8MHex_SuWLl"
      },
      "execution_count": null,
      "outputs": []
    },
    {
      "cell_type": "code",
      "source": [
        "# img_path = os.path.join(\"/content/Memes/Memes/Bangla Thug Life (1).jpg\")\n",
        "# img = plt.imread(img_path)\n",
        "# print(img.shape)\n",
        "# plt.imshow(img)\n",
        "# plt.show()"
      ],
      "metadata": {
        "id": "CWKOkvLWtMzQ"
      },
      "execution_count": null,
      "outputs": []
    },
    {
      "cell_type": "code",
      "source": [
        "from PIL import ImageFile\n",
        "ImageFile.LOAD_TRUNCATED_IMAGES = True"
      ],
      "metadata": {
        "id": "nFJJ3gSqs8ZO"
      },
      "execution_count": null,
      "outputs": []
    },
    {
      "cell_type": "markdown",
      "source": [
        "# Image  and labels preprocessing "
      ],
      "metadata": {
        "id": "wakq72j5t_ug"
      }
    },
    {
      "cell_type": "code",
      "source": [
        "# Trainset\n",
        "X_image_train = []\n",
        "y_train =[]\n",
        "base_path = \"/content/drive/MyDrive/TaheriThesis/Dataset/Images/\"\n",
        "for frame, captions,labels in dataset.values:\n",
        "  img_path = os.path.join(base_path, frame)\n",
        "  img = load_img(img_path, target_size = (180, 180))\n",
        "  X_image_train.append(img)\n",
        "  y_train.append(labels)\n",
        "\n"
      ],
      "metadata": {
        "id": "U2nYRkF1jSYQ"
      },
      "execution_count": null,
      "outputs": []
    },
    {
      "cell_type": "code",
      "source": [
        "X_image_train = np.array([np.array(val) for val in X_image_train])\n",
        "y_train       = np.array(y_train)"
      ],
      "metadata": {
        "id": "rkjQU9EulYlk"
      },
      "execution_count": null,
      "outputs": []
    },
    {
      "cell_type": "code",
      "source": [
        "# X_image_test = []\n",
        "# base_path = \"/content/drive/MyDrive/TaheriThesis/Dataset/Images/\"\n",
        "# for id, frame, captions in testset.values:\n",
        "#   img_path = os.path.join(base_path, frame)\n",
        "#   img = load_img(img_path, target_size = (180, 180))\n",
        "#   X_image_test.append(img)\n",
        "  \n"
      ],
      "metadata": {
        "id": "_zL-OXvqufV9"
      },
      "execution_count": null,
      "outputs": []
    },
    {
      "cell_type": "code",
      "source": [
        "# X_image_test = np.array([np.array(val) for val in X_image_test])"
      ],
      "metadata": {
        "id": "IA4FIOF2vCoV"
      },
      "execution_count": null,
      "outputs": []
    },
    {
      "cell_type": "code",
      "source": [
        "# type(X_image_test)"
      ],
      "metadata": {
        "id": "-_mvJDzbuf_V"
      },
      "execution_count": null,
      "outputs": []
    },
    {
      "cell_type": "code",
      "source": [
        "type(X_image_train)"
      ],
      "metadata": {
        "colab": {
          "base_uri": "https://localhost:8080/"
        },
        "id": "BXb7lr8ZtufV",
        "outputId": "35b7aa4a-a585-4edb-d422-976fbd3b5aa1"
      },
      "execution_count": null,
      "outputs": [
        {
          "output_type": "execute_result",
          "data": {
            "text/plain": [
              "numpy.ndarray"
            ]
          },
          "metadata": {},
          "execution_count": 21
        }
      ]
    },
    {
      "cell_type": "code",
      "source": [
        "type(y_train)"
      ],
      "metadata": {
        "colab": {
          "base_uri": "https://localhost:8080/"
        },
        "id": "4PwCLJQ8tzBf",
        "outputId": "597cd4e7-7ae6-4d92-93f7-cfc1ee9a647f"
      },
      "execution_count": null,
      "outputs": [
        {
          "output_type": "execute_result",
          "data": {
            "text/plain": [
              "numpy.ndarray"
            ]
          },
          "metadata": {},
          "execution_count": 22
        }
      ]
    },
    {
      "cell_type": "code",
      "source": [
        "print(f\"train set length {len(X_image_train)}\")\n",
        "# print(f\"test set length {len(X_image_test)}\")"
      ],
      "metadata": {
        "colab": {
          "base_uri": "https://localhost:8080/"
        },
        "id": "6dBX6boDQxQj",
        "outputId": "a69f896e-3891-4bbf-8429-955eb032e371"
      },
      "execution_count": null,
      "outputs": [
        {
          "output_type": "stream",
          "name": "stdout",
          "text": [
            "train set length 3630\n"
          ]
        }
      ]
    },
    {
      "cell_type": "markdown",
      "source": [
        "# Text Preprocessing"
      ],
      "metadata": {
        "id": "z2aRTFj0uMYV"
      }
    },
    {
      "cell_type": "code",
      "source": [
        "number_of_classes = len(dataset['Label'].unique())\n",
        "number_of_classes"
      ],
      "metadata": {
        "colab": {
          "base_uri": "https://localhost:8080/"
        },
        "id": "m14iT4_-uL7Y",
        "outputId": "24ab0da3-dbf0-432b-dd53-35eaaaa66bf3"
      },
      "execution_count": null,
      "outputs": [
        {
          "output_type": "execute_result",
          "data": {
            "text/plain": [
              "7"
            ]
          },
          "metadata": {},
          "execution_count": 24
        }
      ]
    },
    {
      "cell_type": "code",
      "source": [
        "print('Total size of the dataset : ',len(dataset))"
      ],
      "metadata": {
        "colab": {
          "base_uri": "https://localhost:8080/"
        },
        "id": "2prsec97viVM",
        "outputId": "bf5b8f12-9ef3-4b49-97ea-fc160c80e6b7"
      },
      "execution_count": null,
      "outputs": [
        {
          "output_type": "stream",
          "name": "stdout",
          "text": [
            "Total size of the dataset :  3630\n"
          ]
        }
      ]
    },
    {
      "cell_type": "code",
      "source": [
        "# cleaning function\n",
        "def cleaning(row):\n",
        "  text = re.sub('[^\\u0980-\\u09FF]',' ', row) ## removing punctions\n",
        "  return text \n",
        "\n",
        "dataset['cleaned'] = dataset.Captions.apply(cleaning)  \n",
        "# testset['cleaned'] = testset.Captions.apply(cleaning)"
      ],
      "metadata": {
        "id": "Ud5Vh2_-vita"
      },
      "execution_count": null,
      "outputs": []
    },
    {
      "cell_type": "code",
      "source": [
        "max_words = 100000\n",
        "\n",
        "from keras.preprocessing.text import Tokenizer\n",
        "\n",
        "tokenizer = Tokenizer(num_words = max_words, filters='!\"#$%&()*+,-./:;<=>?@[\\\\]^_`{|}~\\t\\n\\r-', \n",
        "                      split=' ', char_level=False, oov_token=None, document_count=0)\n",
        "\n",
        "tokenizer.fit_on_texts(dataset['cleaned'])"
      ],
      "metadata": {
        "id": "3sT_ocmhvjNN"
      },
      "execution_count": null,
      "outputs": []
    },
    {
      "cell_type": "code",
      "source": [
        "word_counts = tokenizer.word_counts\n",
        "word_docs = tokenizer.word_docs\n",
        "word_index = tokenizer.word_index\n",
        "document_count = tokenizer.document_count\n",
        "\n",
        "print(len(word_counts))"
      ],
      "metadata": {
        "colab": {
          "base_uri": "https://localhost:8080/"
        },
        "id": "YwCRnn4uwrpD",
        "outputId": "5001ba7a-c5df-4e61-ff78-0bd18368df94"
      },
      "execution_count": null,
      "outputs": [
        {
          "output_type": "stream",
          "name": "stdout",
          "text": [
            "11389\n"
          ]
        }
      ]
    },
    {
      "cell_type": "code",
      "source": [
        "def print_func(i, j):\n",
        "    print(i, j)\n",
        "\n",
        "print(\"Words ===> Counts\")\n",
        "k = 0\n",
        "for (i, j) in word_counts.items():\n",
        "        print_func(i, j)\n",
        "        k+=1\n",
        "        if k== 10:\n",
        "          k=0\n",
        "          break\n",
        "\n",
        "print(\"\\nWords ===> Documents\")       \n",
        "for (i, j) in word_docs.items():\n",
        "        print_func(i, j)\n",
        "        k+=1\n",
        "        if k== 10:\n",
        "          k=0\n",
        "          break\n",
        "\n",
        "print(\"\\nWords ===> Index\")\n",
        "for (i, j) in word_index.items():\n",
        "        print_func(i, j)\n",
        "        k+=1\n",
        "        if k== 10:\n",
        "          k=0\n",
        "          break\n",
        "\n",
        "print(\"Total Number of Documents: \", document_count)"
      ],
      "metadata": {
        "colab": {
          "base_uri": "https://localhost:8080/"
        },
        "id": "lQ5NYL96wrcD",
        "outputId": "1d110e0a-a70e-4246-ed22-30f8a0052eeb"
      },
      "execution_count": null,
      "outputs": [
        {
          "output_type": "stream",
          "name": "stdout",
          "text": [
            "Words ===> Counts\n",
            "আমাদের 163\n",
            "শেষ 96\n",
            "উৎসবের 1\n",
            "সূচনা 2\n",
            "ডটিং 3\n",
            "ভাই 21\n",
            "উদীয়মান 3\n",
            "ট্রেন্ডসেটর 2\n",
            "প্রিন্স 4\n",
            "জর্জ 6\n",
            "\n",
            "Words ===> Documents\n",
            "সূচনা 2\n",
            "শেষ 89\n",
            "আমাদের 154\n",
            "উৎসবের 1\n",
            "উদীয়মান 3\n",
            "প্রিন্স 4\n",
            "ডটিং 3\n",
            "ট্রেন্ডসেটর 2\n",
            "জর্জ 6\n",
            "দ্বিতীয় 19\n",
            "\n",
            "Words ===> Index\n",
            "আমি 1\n",
            "এবং 2\n",
            "একটি 3\n",
            "আমার 4\n",
            "জন্য 5\n",
            "এই 6\n",
            "না 7\n",
            "করে 8\n",
            "আপনি 9\n",
            "এটি 10\n",
            "Total Number of Documents:  3630\n"
          ]
        }
      ]
    },
    {
      "cell_type": "code",
      "source": [
        "Length_frequency = {}\n",
        "\n",
        "for i in range(len(dataset)):\n",
        "     index = len(dataset['cleaned'][i])\n",
        "     Length_frequency[index] = Length_frequency.get(index, 0)+1"
      ],
      "metadata": {
        "id": "qaUILIfswqrs"
      },
      "execution_count": null,
      "outputs": []
    },
    {
      "cell_type": "code",
      "source": [
        "import seaborn as sns\n",
        "\n",
        "plt.bar(list(Length_frequency.keys()), Length_frequency.values(), color ='b')\n",
        "plt.xlim(1, 1024)\n",
        "\n",
        "plt.xlabel('Lenght of the Texts')\n",
        "plt.ylabel('Frequency')\n",
        "plt.title('Length-Frequency Distribution')"
      ],
      "metadata": {
        "colab": {
          "base_uri": "https://localhost:8080/",
          "height": 489
        },
        "id": "laquRhXew518",
        "outputId": "9f6184a7-1b7a-418f-8d78-7c37ba7f0287"
      },
      "execution_count": null,
      "outputs": [
        {
          "output_type": "execute_result",
          "data": {
            "text/plain": [
              "Text(0.5, 1.0, 'Length-Frequency Distribution')"
            ]
          },
          "metadata": {},
          "execution_count": 31
        },
        {
          "output_type": "display_data",
          "data": {
            "text/plain": [
              "<Figure size 640x480 with 1 Axes>"
            ],
            "image/png": "[encoded data removed]"
          },
          "metadata": {}
        }
      ]
    },
    {
      "cell_type": "code",
      "source": [
        "sequences = tokenizer.texts_to_sequences(dataset['cleaned'])"
      ],
      "metadata": {
        "id": "12kFfEWvxBll"
      },
      "execution_count": null,
      "outputs": []
    },
    {
      "cell_type": "code",
      "source": [
        "# test_sequences = tokenizer.texts_to_sequences(testset['cleaned'])"
      ],
      "metadata": {
        "id": "HfhZUcSQxBYS"
      },
      "execution_count": null,
      "outputs": []
    },
    {
      "cell_type": "code",
      "source": [
        "word_index = tokenizer.word_index\n",
        "print('Found %s unique tokens.' % len(word_index))\n"
      ],
      "metadata": {
        "colab": {
          "base_uri": "https://localhost:8080/"
        },
        "id": "xDn86rA1xBJ7",
        "outputId": "490f37ed-0f51-4b80-e59f-954cc81c539e"
      },
      "execution_count": null,
      "outputs": [
        {
          "output_type": "stream",
          "name": "stdout",
          "text": [
            "Found 11389 unique tokens.\n"
          ]
        }
      ]
    },
    {
      "cell_type": "code",
      "source": [
        "mx = len(sequences[0])\n",
        "for x in sequences:\n",
        "  mx =max(mx, len(x))\n",
        "print(\"Maximum Text length\",mx)\n",
        "max_length = 60\n",
        "\n",
        "##We can also determine maxlen by plotting the frequency distribution of the lengths\n",
        "train_corpus = keras.preprocessing.sequence.pad_sequences(sequences, value=0.0, padding='post',truncating = \"post\", maxlen= max_length)\n",
        "## We get the maxlen value from the Length frequency distribution\n",
        "\n",
        "print(train_corpus[0])"
      ],
      "metadata": {
        "colab": {
          "base_uri": "https://localhost:8080/"
        },
        "id": "WbCY5CQJxSA7",
        "outputId": "3b11887c-61a5-46cf-dce7-fba4fd99e6cd"
      },
      "execution_count": null,
      "outputs": [
        {
          "output_type": "stream",
          "name": "stdout",
          "text": [
            "Maximum Text length 195\n",
            "[  18   37 4183 2561    0    0    0    0    0    0    0    0    0    0\n",
            "    0    0    0    0    0    0    0    0    0    0    0    0    0    0\n",
            "    0    0    0    0    0    0    0    0    0    0    0    0    0    0\n",
            "    0    0    0    0    0    0    0    0    0    0    0    0    0    0\n",
            "    0    0    0    0]\n"
          ]
        }
      ]
    },
    {
      "cell_type": "code",
      "source": [
        "# test_corpus = keras.preprocessing.sequence.pad_sequences(test_sequences, value=0.0, padding='post',truncating = 'post', maxlen= max_length)"
      ],
      "metadata": {
        "id": "tES8vyvWxiPb"
      },
      "execution_count": null,
      "outputs": []
    },
    {
      "cell_type": "markdown",
      "source": [
        "# Text train and test set"
      ],
      "metadata": {
        "id": "RziYx9Nlx3Jx"
      }
    },
    {
      "cell_type": "code",
      "source": [
        "X_text_train, y_train = train_corpus, dataset[\"Label\"]\n",
        "# X_text_test = test_corpus"
      ],
      "metadata": {
        "id": "e-xtGBAVx2eB"
      },
      "execution_count": null,
      "outputs": []
    },
    {
      "cell_type": "code",
      "source": [
        "print(\"Training Size: \",X_text_train.shape)\n",
        "# print(\"Test Size: \",X_text_test.shape)"
      ],
      "metadata": {
        "colab": {
          "base_uri": "https://localhost:8080/"
        },
        "id": "jg1MZIQLyMCy",
        "outputId": "3d554b04-bb0e-429b-972f-68eaec68c028"
      },
      "execution_count": null,
      "outputs": [
        {
          "output_type": "stream",
          "name": "stdout",
          "text": [
            "Training Size:  (3630, 60)\n"
          ]
        }
      ]
    },
    {
      "cell_type": "markdown",
      "source": [
        "# BiLSTM + CNN"
      ],
      "metadata": {
        "id": "Ti9n7ZMKzIkq"
      }
    },
    {
      "cell_type": "code",
      "source": [
        "import tensorflow as tf\n",
        "from tensorflow import keras\n",
        "from keras.layers import Input, Dense, Activation, Dropout,Flatten,Embedding\n",
        "from keras.layers import Conv1D,MaxPooling1D,GlobalAveragePooling1D, Bidirectional, LSTM, GRU\n",
        "from keras.models import Model\n",
        "from tensorflow.keras.optimizers import Adam,SGD,Nadam,RMSprop\n",
        "from tensorflow.keras.models import load_model"
      ],
      "metadata": {
        "id": "Cq3R2isBzgER"
      },
      "execution_count": null,
      "outputs": []
    },
    {
      "cell_type": "code",
      "source": [
        "keras.backend.clear_session()\n",
        "\n",
        "\n",
        "embedding_dim = 64\n",
        "number_of_classes = len(dataset['Label'].unique())\n",
        "lc_text_inputs = Input(shape=(max_length,))\n",
        "lc_embedding_layer = Embedding(max_words,embedding_dim)(lc_text_inputs)\n",
        "#LSTM_Layer_1 = Bidirectional(LSTM(32,return_sequences=True))(lc_embedding_layer)\n",
        "LSTM_Layer_2 = Bidirectional(LSTM(16,return_sequences=True))(lc_embedding_layer)\n",
        "lc_conv1 = Conv1D(32,7,activation='relu')(LSTM_Layer_2)\n",
        "lc_pool1 = MaxPooling1D(2)(lc_conv1)\n",
        "# lc_conv2 = Conv1D(64,2,activation='relu')(lc_pool1)\n",
        "# lc_pool2 = MaxPooling1D(2)(lc_conv2)\n",
        "lc_flat = Flatten()(lc_pool1)\n",
        "lc_dropout = layers.Dropout(0.4)(lc_flat)\n",
        "outputs = Dense(7, activation='softmax')(lc_dropout)\n",
        "cnn_lstm_model = Model(inputs=lc_text_inputs, outputs= outputs)"
      ],
      "metadata": {
        "id": "-x9g9HFAyNSi"
      },
      "execution_count": null,
      "outputs": []
    },
    {
      "cell_type": "code",
      "source": [
        "callbacks = [\n",
        "    keras.callbacks.ModelCheckpoint(\n",
        "        filepath = \"onlytextmodel.h5\",\n",
        "        save_best_only = True,\n",
        "        monitor = \"val_loss\"\n",
        "    )\n",
        "]"
      ],
      "metadata": {
        "id": "gzx4uqqoWfDD"
      },
      "execution_count": null,
      "outputs": []
    },
    {
      "cell_type": "code",
      "source": [
        "cnn_lstm_model.compile(\n",
        "    loss = \"sparse_categorical_crossentropy\",\n",
        "    optimizer = tf.keras.optimizers.Adam(learning_rate=1e-3),\n",
        "    metrics = [\"accuracy\"]\n",
        ")"
      ],
      "metadata": {
        "id": "JZTzc7RoG-KJ"
      },
      "execution_count": null,
      "outputs": []
    },
    {
      "cell_type": "code",
      "source": [
        "history = cnn_lstm_model.fit( X_text_train,\n",
        "                    y_train, \n",
        "                    epochs=8, \n",
        "                    batch_size=32,\n",
        "                    )"
      ],
      "metadata": {
        "id": "dFimLb0PHHCq",
        "colab": {
          "base_uri": "https://localhost:8080/"
        },
        "outputId": "496cf6ff-7abb-4dbf-de29-5f7e2def16fe"
      },
      "execution_count": null,
      "outputs": [
        {
          "output_type": "stream",
          "name": "stdout",
          "text": [
            "Epoch 1/8\n",
            "114/114 [==============================] - 33s 149ms/step - loss: 1.8544 - accuracy: 0.2419\n",
            "Epoch 2/8\n",
            "114/114 [==============================] - 8s 73ms/step - loss: 1.6914 - accuracy: 0.3515\n",
            "Epoch 3/8\n",
            "114/114 [==============================] - 5s 48ms/step - loss: 0.9579 - accuracy: 0.6634\n",
            "Epoch 4/8\n",
            "114/114 [==============================] - 3s 29ms/step - loss: 0.4540 - accuracy: 0.8534\n",
            "Epoch 5/8\n",
            "114/114 [==============================] - 2s 16ms/step - loss: 0.2148 - accuracy: 0.9399\n",
            "Epoch 6/8\n",
            "114/114 [==============================] - 2s 18ms/step - loss: 0.1173 - accuracy: 0.9680\n",
            "Epoch 7/8\n",
            "114/114 [==============================] - 2s 20ms/step - loss: 0.0868 - accuracy: 0.9804\n",
            "Epoch 8/8\n",
            "114/114 [==============================] - 3s 29ms/step - loss: 0.0710 - accuracy: 0.9824\n"
          ]
        }
      ]
    },
    {
      "cell_type": "code",
      "source": [
        "#test_model =  keras.models.load_model(\"onlytextmodel.h5\")\n",
        "# y_pred  = cnn_lstm_model.predict([X_text_test])\n",
        "# y_pred = tf.argmax(y_pred,axis = 1)\n",
        "# y_pred"
      ],
      "metadata": {
        "id": "tQUACVR2W2IR"
      },
      "execution_count": null,
      "outputs": []
    },
    {
      "cell_type": "code",
      "source": [
        "# pred_value = np.array(y_pred)\n",
        "# y_pred = pd.DataFrame(pred_value, columns=['Label'])\n",
        "# id = pd.DataFrame(testset['Id'])\n",
        "# submit_df = pd.concat([id, y_pred], axis=1).set_index('Id')\n",
        "# submit_df.to_csv('onlytext.csv')"
      ],
      "metadata": {
        "id": "YPEDI9EOWrra"
      },
      "execution_count": null,
      "outputs": []
    },
    {
      "cell_type": "markdown",
      "source": [
        "# Pretrain Image Model"
      ],
      "metadata": {
        "id": "2lUjRSHtzsTJ"
      }
    },
    {
      "cell_type": "code",
      "source": [
        "conv_base = tf.keras.applications.xception.Xception(\n",
        "    weights = \"imagenet\",\n",
        "    include_top = False,\n",
        "    classifier_activation='softmax',\n",
        "    input_shape = (180,180,3)\n",
        "\n",
        ")"
      ],
      "metadata": {
        "id": "nmU87GpOyMr6",
        "colab": {
          "base_uri": "https://localhost:8080/"
        },
        "outputId": "41fbfa4e-9ab7-48d4-bd6c-bc0a9a83601c"
      },
      "execution_count": null,
      "outputs": [
        {
          "output_type": "stream",
          "name": "stdout",
          "text": [
            "Downloading data from https://storage.googleapis.com/tensorflow/keras-applications/xception/xception_weights_tf_dim_ordering_tf_kernels_notop.h5\n",
            "83683744/83683744 [==============================] - 0s 0us/step\n"
          ]
        }
      ]
    },
    {
      "cell_type": "code",
      "source": [
        "data_augmentation = keras.Sequential(\n",
        "    [\n",
        "        layers.RandomFlip(\"horizontal\"),\n",
        "        layers.RandomRotation(0.1),\n",
        "        layers.RandomZoom(0.1)\n",
        "    ]\n",
        ") "
      ],
      "metadata": {
        "id": "goahgkXyz7Dj"
      },
      "execution_count": null,
      "outputs": []
    },
    {
      "cell_type": "code",
      "source": [
        "conv_base.trainable = True\n",
        "for layer in conv_base.layers[:-6]:\n",
        "  layer.trainable = False"
      ],
      "metadata": {
        "id": "Z19UpWtt0Ajh"
      },
      "execution_count": null,
      "outputs": []
    },
    {
      "cell_type": "code",
      "source": [
        "keras.backend.clear_session()\n",
        "inputs = keras.Input(shape = (180,180, 3), name = \"image_input\")\n",
        "x = data_augmentation(inputs)\n",
        "x = keras.applications.xception.preprocess_input(x)\n",
        "x = conv_base(x)\n",
        "x = layers.Flatten(name =\"image_flatten\")(x)\n",
        "x = layers.Dense(256,activation = \"relu\", name =\"image_dense1\")(x)\n",
        "x = layers.Dropout(0.4, name = \"image_dropout\")(x)\n",
        "outputs = layers.Dense(7, activation = \"softmax\", name = \"image_dense2\")(x)\n",
        "image_model = keras.Model(inputs, outputs)"
      ],
      "metadata": {
        "id": "2rGQlviH0BxQ"
      },
      "execution_count": null,
      "outputs": []
    },
    {
      "cell_type": "code",
      "source": [
        "# callbacks = [\n",
        "#     keras.callbacks.ModelCheckpoint(\n",
        "#         filepath = \"onlyimagemodel.h5\",\n",
        "#         save_best_only = True,\n",
        "#         monitor = \"val_loss\"\n",
        "#     )\n",
        "# ]"
      ],
      "metadata": {
        "id": "RGNq-zALTzyc"
      },
      "execution_count": null,
      "outputs": []
    },
    {
      "cell_type": "code",
      "source": [
        "image_model.compile(\n",
        "    loss = \"sparse_categorical_crossentropy\",\n",
        "    optimizer = tf.keras.optimizers.Adam(learning_rate=2e-5, epsilon=1e-08, clipnorm=1.0),\n",
        "    metrics = [\"accuracy\"]\n",
        ")"
      ],
      "metadata": {
        "id": "mP0ZF8-2IFH1"
      },
      "execution_count": null,
      "outputs": []
    },
    {
      "cell_type": "code",
      "source": [
        "history = image_model.fit( X_image_train,\n",
        "                    y_train, \n",
        "                    epochs=15, \n",
        "                    batch_size=32,\n",
        "                    # # validation_split =0.2,\n",
        "                    # validation_split =0.05,\n",
        "                    # callbacks = callbacks\n",
        "                    )"
      ],
      "metadata": {
        "id": "rMzlIv3PIJ2t",
        "colab": {
          "base_uri": "https://localhost:8080/"
        },
        "outputId": "6c64aa45-3921-4d0c-f9f8-e1cc2daedc82"
      },
      "execution_count": null,
      "outputs": [
        {
          "output_type": "stream",
          "name": "stdout",
          "text": [
            "Epoch 1/15\n",
            "114/114 [==============================] - 20s 100ms/step - loss: 1.9132 - accuracy: 0.2322\n",
            "Epoch 2/15\n",
            "114/114 [==============================] - 11s 93ms/step - loss: 1.7938 - accuracy: 0.3041\n",
            "Epoch 3/15\n",
            "114/114 [==============================] - 11s 96ms/step - loss: 1.7139 - accuracy: 0.3358\n",
            "Epoch 4/15\n",
            "114/114 [==============================] - 11s 96ms/step - loss: 1.6546 - accuracy: 0.3678\n",
            "Epoch 5/15\n",
            "114/114 [==============================] - 11s 98ms/step - loss: 1.5516 - accuracy: 0.4174\n",
            "Epoch 6/15\n",
            "114/114 [==============================] - 11s 100ms/step - loss: 1.5003 - accuracy: 0.4490\n",
            "Epoch 7/15\n",
            "114/114 [==============================] - 12s 102ms/step - loss: 1.4128 - accuracy: 0.4807\n",
            "Epoch 8/15\n",
            "114/114 [==============================] - 12s 103ms/step - loss: 1.3388 - accuracy: 0.5113\n",
            "Epoch 9/15\n",
            "114/114 [==============================] - 11s 101ms/step - loss: 1.2739 - accuracy: 0.5380\n",
            "Epoch 10/15\n",
            "114/114 [==============================] - 11s 100ms/step - loss: 1.2024 - accuracy: 0.5796\n",
            "Epoch 11/15\n",
            "114/114 [==============================] - 11s 99ms/step - loss: 1.1512 - accuracy: 0.5915\n",
            "Epoch 12/15\n",
            "114/114 [==============================] - 11s 99ms/step - loss: 1.0727 - accuracy: 0.6245\n",
            "Epoch 13/15\n",
            "114/114 [==============================] - 12s 101ms/step - loss: 1.0180 - accuracy: 0.6548\n",
            "Epoch 14/15\n",
            "114/114 [==============================] - 12s 101ms/step - loss: 0.9529 - accuracy: 0.6766\n",
            "Epoch 15/15\n",
            "114/114 [==============================] - 12s 101ms/step - loss: 0.9181 - accuracy: 0.6967\n"
          ]
        }
      ]
    },
    {
      "cell_type": "code",
      "source": [
        "# test_model =  keras.models.load_model(\"onlyimagemodel.h5\")\n",
        "# y_pred = test_model.predict([X_image_test])\n",
        "# y_pred = tf.argmax(y_pred,axis = 1)\n",
        "# y_pred"
      ],
      "metadata": {
        "id": "F5f4NkB4T9s8"
      },
      "execution_count": null,
      "outputs": []
    },
    {
      "cell_type": "code",
      "source": [
        "# pred_value = np.array(y_pred)\n",
        "# y_pred = pd.DataFrame(pred_value, columns=['Label'])\n",
        "# id = pd.DataFrame(testset['Id'])\n",
        "# submit_df = pd.concat([id, y_pred], axis=1).set_index('Id')\n",
        "# submit_df.to_csv('onlyimage.csv')"
      ],
      "metadata": {
        "id": "FQEjGRBKUED1"
      },
      "execution_count": null,
      "outputs": []
    },
    {
      "cell_type": "markdown",
      "source": [
        "# Merge Model"
      ],
      "metadata": {
        "id": "7Fhy0KZt0WXp"
      }
    },
    {
      "cell_type": "code",
      "source": [
        "keras.backend.clear_session()\n",
        "concatenated = layers.concatenate([image_model.output, cnn_lstm_model.output])\n",
        "#combined_dense1 = layers.Dense(128, activation = \"relu\", name = \"combined_dense1\")(concatenated)\n",
        "combined_dropout = layers.Dropout(0.4, name = \"combined_dropout\")(concatenated)\n",
        "outputs = layers.Dense(7, activation = \"softmax\", name = \"output_dense_layer\")(combined_dropout)\n",
        "model = keras.Model([inputs, lc_text_inputs], outputs)"
      ],
      "metadata": {
        "id": "Uvq1tUyQ0gf5"
      },
      "execution_count": null,
      "outputs": []
    },
    {
      "cell_type": "code",
      "source": [
        "model.summary()"
      ],
      "metadata": {
        "colab": {
          "base_uri": "https://localhost:8080/"
        },
        "id": "OkgdL6Oy4fF9",
        "outputId": "bda42cdd-5ffa-407e-a10a-5a11b82411ee"
      },
      "execution_count": null,
      "outputs": [
        {
          "output_type": "stream",
          "name": "stdout",
          "text": [
            "Model: \"model\"\n",
            "__________________________________________________________________________________________________\n",
            " Layer (type)                   Output Shape         Param #     Connected to                     \n",
            "==================================================================================================\n",
            " image_input (InputLayer)       [(None, 180, 180, 3  0           []                               \n",
            "                                )]                                                                \n",
            "                                                                                                  \n",
            " sequential (Sequential)        (None, 180, 180, 3)  0           ['image_input[0][0]']            \n",
            "                                                                                                  \n",
            " input_1 (InputLayer)           [(None, 60)]         0           []                               \n",
            "                                                                                                  \n",
            " tf.math.truediv (TFOpLambda)   (None, 180, 180, 3)  0           ['sequential[0][0]']             \n",
            "                                                                                                  \n",
            " embedding (Embedding)          (None, 60, 64)       6400000     ['input_1[0][0]']                \n",
            "                                                                                                  \n",
            " tf.math.subtract (TFOpLambda)  (None, 180, 180, 3)  0           ['tf.math.truediv[0][0]']        \n",
            "                                                                                                  \n",
            " bidirectional (Bidirectional)  (None, 60, 32)       10368       ['embedding[0][0]']              \n",
            "                                                                                                  \n",
            " xception (Functional)          (None, 6, 6, 2048)   20861480    ['tf.math.subtract[0][0]']       \n",
            "                                                                                                  \n",
            " conv1d (Conv1D)                (None, 54, 32)       7200        ['bidirectional[0][0]']          \n",
            "                                                                                                  \n",
            " image_flatten (Flatten)        (None, 73728)        0           ['xception[0][0]']               \n",
            "                                                                                                  \n",
            " max_pooling1d (MaxPooling1D)   (None, 27, 32)       0           ['conv1d[0][0]']                 \n",
            "                                                                                                  \n",
            " image_dense1 (Dense)           (None, 256)          18874624    ['image_flatten[0][0]']          \n",
            "                                                                                                  \n",
            " flatten (Flatten)              (None, 864)          0           ['max_pooling1d[0][0]']          \n",
            "                                                                                                  \n",
            " image_dropout (Dropout)        (None, 256)          0           ['image_dense1[0][0]']           \n",
            "                                                                                                  \n",
            " dropout (Dropout)              (None, 864)          0           ['flatten[0][0]']                \n",
            "                                                                                                  \n",
            " image_dense2 (Dense)           (None, 7)            1799        ['image_dropout[0][0]']          \n",
            "                                                                                                  \n",
            " dense (Dense)                  (None, 7)            6055        ['dropout[0][0]']                \n",
            "                                                                                                  \n",
            " concatenate (Concatenate)      (None, 14)           0           ['image_dense2[0][0]',           \n",
            "                                                                  'dense[0][0]']                  \n",
            "                                                                                                  \n",
            " combined_dropout (Dropout)     (None, 14)           0           ['concatenate[0][0]']            \n",
            "                                                                                                  \n",
            " output_dense_layer (Dense)     (None, 7)            105         ['combined_dropout[0][0]']       \n",
            "                                                                                                  \n",
            "==================================================================================================\n",
            "Total params: 46,161,631\n",
            "Trainable params: 30,048,951\n",
            "Non-trainable params: 16,112,680\n",
            "__________________________________________________________________________________________________\n"
          ]
        }
      ]
    },
    {
      "cell_type": "code",
      "source": [
        "model.compile(\n",
        "    loss = \"sparse_categorical_crossentropy\",\n",
        "    optimizer = tf.keras.optimizers.Adam(learning_rate=1e-3),\n",
        "    metrics = [\"accuracy\"]\n",
        ")"
      ],
      "metadata": {
        "id": "0LN3E_l10Nib"
      },
      "execution_count": null,
      "outputs": []
    },
    {
      "cell_type": "code",
      "source": [
        "callbacks = [\n",
        "    keras.callbacks.ModelCheckpoint(\n",
        "        filepath = \"mymodel.h5\",\n",
        "        save_best_only = True,\n",
        "        monitor = \"val_loss\"\n",
        "    )\n",
        "]"
      ],
      "metadata": {
        "id": "bHUZ9ZIL0YS4"
      },
      "execution_count": null,
      "outputs": []
    },
    {
      "cell_type": "code",
      "source": [
        "history = model.fit([X_image_train, X_text_train],\n",
        "                    y_train, \n",
        "                    epochs=15, \n",
        "                    batch_size=32,\n",
        "                    # validation_split =0.2,\n",
        "                    validation_split =0.1,\n",
        "                    callbacks = callbacks\n",
        "                    )"
      ],
      "metadata": {
        "colab": {
          "base_uri": "https://localhost:8080/"
        },
        "id": "S1bKCaFR4dAu",
        "outputId": "d37159c8-ba0e-4812-8a5b-818e453faadd"
      },
      "execution_count": null,
      "outputs": [
        {
          "output_type": "stream",
          "name": "stdout",
          "text": [
            "Epoch 1/15\n",
            "103/103 [==============================] - 36s 248ms/step - loss: 1.8503 - accuracy: 0.1901 - val_loss: 1.7229 - val_accuracy: 0.5207\n",
            "Epoch 2/15\n",
            "103/103 [==============================] - 20s 192ms/step - loss: 1.6403 - accuracy: 0.4815 - val_loss: 1.5674 - val_accuracy: 0.5372\n",
            "Epoch 3/15\n",
            "103/103 [==============================] - 16s 160ms/step - loss: 1.4980 - accuracy: 0.5366 - val_loss: 1.4733 - val_accuracy: 0.6639\n",
            "Epoch 4/15\n",
            "103/103 [==============================] - 15s 146ms/step - loss: 1.3704 - accuracy: 0.5886 - val_loss: 1.3518 - val_accuracy: 0.6667\n",
            "Epoch 5/15\n",
            "103/103 [==============================] - 16s 153ms/step - loss: 1.3109 - accuracy: 0.5699 - val_loss: 1.3130 - val_accuracy: 0.6253\n",
            "Epoch 6/15\n",
            "103/103 [==============================] - 15s 145ms/step - loss: 1.2416 - accuracy: 0.5868 - val_loss: 1.2162 - val_accuracy: 0.6997\n",
            "Epoch 7/15\n",
            "103/103 [==============================] - 14s 138ms/step - loss: 1.2078 - accuracy: 0.5993 - val_loss: 1.1730 - val_accuracy: 0.7824\n",
            "Epoch 8/15\n",
            "103/103 [==============================] - 15s 142ms/step - loss: 1.1260 - accuracy: 0.6507 - val_loss: 1.1284 - val_accuracy: 0.7906\n",
            "Epoch 9/15\n",
            "103/103 [==============================] - 15s 147ms/step - loss: 1.0932 - accuracy: 0.6477 - val_loss: 1.0878 - val_accuracy: 0.8044\n",
            "Epoch 10/15\n",
            "103/103 [==============================] - 14s 137ms/step - loss: 1.0430 - accuracy: 0.6483 - val_loss: 1.0611 - val_accuracy: 0.7934\n",
            "Epoch 11/15\n",
            "103/103 [==============================] - 14s 132ms/step - loss: 1.0324 - accuracy: 0.6511 - val_loss: 1.0193 - val_accuracy: 0.7906\n",
            "Epoch 12/15\n",
            "103/103 [==============================] - 14s 137ms/step - loss: 1.0336 - accuracy: 0.6324 - val_loss: 1.0086 - val_accuracy: 0.7686\n",
            "Epoch 13/15\n",
            "103/103 [==============================] - 14s 135ms/step - loss: 1.0045 - accuracy: 0.6388 - val_loss: 0.9718 - val_accuracy: 0.7934\n",
            "Epoch 14/15\n",
            "103/103 [==============================] - 15s 142ms/step - loss: 0.9697 - accuracy: 0.6474 - val_loss: 0.9311 - val_accuracy: 0.7934\n",
            "Epoch 15/15\n",
            "103/103 [==============================] - 13s 122ms/step - loss: 0.9548 - accuracy: 0.6529 - val_loss: 0.9475 - val_accuracy: 0.7769\n"
          ]
        }
      ]
    },
    {
      "cell_type": "code",
      "source": [
        "# test_model =  keras.models.load_model(\"mymodel.h5\")\n",
        "plt.figure(figsize=(12, 8))\n",
        "\n",
        "plt.subplot(2, 2, 1)\n",
        "plt.plot(history.history['loss'], label='Training Loss',scalex=True)\n",
        "plt.plot(history.history['val_loss'], label='Validation Loss',scalex=True)\n",
        "plt.xlabel(\"Epoch\")\n",
        "plt.ylabel(\"Loss\")\n",
        "\n",
        "plt.xlim(0,15)\n",
        "plt.legend()\n",
        "plt.title('Evaluation of loss')\n",
        "\n",
        "plt.subplot(2, 2, 2)\n",
        "plt.plot(history.history['accuracy'], label='Training Accuracy')\n",
        "plt.plot(history.history['val_accuracy'], label='Validation Accuracy')\n",
        "plt.xlabel(\"Epoch\")\n",
        "plt.ylabel(\"Accuracy\")\n",
        "plt.xlim(0,15)\n",
        "plt.legend()\n",
        "plt.title('Evaluation of accuracy')\n",
        "plt.savefig(\"irnv2_curve3.png\")\n"
      ],
      "metadata": {
        "colab": {
          "base_uri": "https://localhost:8080/",
          "height": 382
        },
        "id": "YLnxmJlNA5lP",
        "outputId": "4f3e0b32-4516-4e34-9473-238533283b5d"
      },
      "execution_count": null,
      "outputs": [
        {
          "output_type": "display_data",
          "data": {
            "text/plain": [
              "<Figure size 1200x800 with 2 Axes>"
            ],
            "image/png": "[encoded data removed]"
          },
          "metadata": {}
        }
      ]
    },
    {
      "cell_type": "code",
      "source": [
        "from sklearn.metrics import accuracy_score,precision_score,recall_score,f1_score,roc_auc_score\n",
        "def print_metrices(true,pred):\n",
        "    print(confusion_matrix(true,pred))\n",
        "    print(classification_report(true,pred,target_names=['happy','angry','disgust','fear','sad','surprise','other']))\n",
        "    print(\"Accuracy : \",accuracy_score(true,pred))\n",
        "    print(\"Precison : \",precision_score(true,pred, average = 'weighted'))\n",
        "    print(\"Recall : \",recall_score(true,pred,  average = 'weighted'))\n",
        "    print(\"F1 : \",f1_score(true,pred,  average = 'weighted'))"
      ],
      "metadata": {
        "id": "RhASQrUZpu1Y"
      },
      "execution_count": null,
      "outputs": []
    },
    {
      "cell_type": "code",
      "source": [
        "# y_pred = test_model.predict([X_image_test, X_text_test])\n",
        "# y_pred = tf.argmax(y_pred,axis = 1)\n",
        "# y_pred\n",
        "# make predictions on the test data\n",
        "pred = model.predict([X_image_train, X_text_train])\n",
        "y_pred = np.argmax(pred,axis=1)\n",
        "print_metrices(y_train, y_pred)"
      ],
      "metadata": {
        "colab": {
          "base_uri": "https://localhost:8080/"
        },
        "id": "ARosE3SLHE_K",
        "outputId": "ff392ba8-cf3c-4cb4-ad05-d18ec8f2f3a3"
      },
      "execution_count": null,
      "outputs": [
        {
          "output_type": "stream",
          "name": "stdout",
          "text": [
            "114/114 [==============================] - 11s 81ms/step\n",
            "[[900   0   0   1  16   5   6]\n",
            " [  1 403   0   7   4   1   5]\n",
            " [  2   0   0 224   1   2   1]\n",
            " [  2   0   1 251   0   2   3]\n",
            " [  7   2   0   5 545   6   1]\n",
            " [  6   1   0   4   2 426   5]\n",
            " [  9   0   0   2   3  12 756]]\n",
            "              precision    recall  f1-score   support\n",
            "\n",
            "       happy       0.97      0.97      0.97       928\n",
            "       angry       0.99      0.96      0.97       421\n",
            "     disgust       0.00      0.00      0.00       230\n",
            "        fear       0.51      0.97      0.67       259\n",
            "         sad       0.95      0.96      0.96       566\n",
            "    surprise       0.94      0.96      0.95       444\n",
            "       other       0.97      0.97      0.97       782\n",
            "\n",
            "    accuracy                           0.90      3630\n",
            "   macro avg       0.76      0.83      0.78      3630\n",
            "weighted avg       0.87      0.90      0.88      3630\n",
            "\n",
            "Accuracy :  0.9038567493112948\n",
            "Precison :  0.8727731344479125\n",
            "Recall :  0.9038567493112948\n",
            "F1 :  0.8831254800254607\n"
          ]
        }
      ]
    },
    {
      "cell_type": "code",
      "source": [
        "\n",
        "model_names = ['Multimodal Model']\n",
        "class_names=['happy','angry','disgust','fear','sad','surprise','other']"
      ],
      "metadata": {
        "id": "jWJhNRCgsJ0y"
      },
      "execution_count": null,
      "outputs": []
    },
    {
      "cell_type": "code",
      "source": [
        "\n",
        "# Define a result table as a DataFrame\n",
        "result_table = pd.DataFrame({'image_name':dataset['image_name'],\n",
        "                             'Captions':dataset['Captions'],\n",
        "                             \n",
        "                             'Best Multimodal Model':y_pred.astype(int),\n",
        "                             'Actual':dataset['Label']})"
      ],
      "metadata": {
        "id": "6fX-Zt7ZsR1d"
      },
      "execution_count": null,
      "outputs": []
    },
    {
      "cell_type": "code",
      "source": [
        "result_table"
      ],
      "metadata": {
        "colab": {
          "base_uri": "https://localhost:8080/",
          "height": 423
        },
        "id": "ZOIZhJ23tjh5",
        "outputId": "e8181e26-7b86-440f-c443-4a5e3cd393c0"
      },
      "execution_count": null,
      "outputs": [
        {
          "output_type": "execute_result",
          "data": {
            "text/plain": [
              "                                             image_name  \\\n",
              "101   317614457_3631142493877242_4333131209344021325...   \n",
              "1178                                           4492.jpg   \n",
              "2661                                           3258.jpg   \n",
              "3170                                           2761.jpg   \n",
              "437   342007953_579707654225265_2380627006671341447_...   \n",
              "...                                                 ...   \n",
              "3441                                           3716.jpg   \n",
              "1344                                           1241.jpg   \n",
              "527                                             149.jpg   \n",
              "3197                                           2862.jpg   \n",
              "1289                                            458.jpg   \n",
              "\n",
              "                                               Captions  \\\n",
              "101                     আমাদের শেষ উৎসবের সূচনা … … …,🫠   \n",
              "1178  ডটিং ভাই, উদীয়মান ট্রেন্ডসেটর: প্রিন্স জর্জ দ...   \n",
              "2661  এমনকি বৃষ্টিপাতের মধ্য দিয়েও আজ প্রাণবন্ত কার...   \n",
              "3170                 কেন আপনি হতাশ বোধ করছেন? কুইজ নিন:   \n",
              "437   কমলদহে\\r\\n\\r\\nবি.দ্র : উক্ত খুমটি অনেক গভীর, স...   \n",
              "...                                                 ...   \n",
              "3441  আন্তর্জাতিক কম্পিউটার ভিশন সামার স্কুল আইসিভিএ...   \n",
              "1344                      সব কিছুর মুখোমুখি এবং উত্থান।   \n",
              "527                              আমি টাম্বলারকে ভালবাসি   \n",
              "3197  চেয়ার, দেয়াল এবং সিলিংগুলি ঢাকা থাকে, আমাদের...   \n",
              "1289  একটি পার্কিং স্পেসের উপর কলেজের বাচ্চারা। বুলশ...   \n",
              "\n",
              "      Best Multimodal Model  Actual  \n",
              "101                       4       4  \n",
              "1178                      0       0  \n",
              "2661                      5       5  \n",
              "3170                      6       6  \n",
              "437                       0       0  \n",
              "...                     ...     ...  \n",
              "3441                      6       6  \n",
              "1344                      1       1  \n",
              "527                       0       0  \n",
              "3197                      6       6  \n",
              "1289                      3       1  \n",
              "\n",
              "[3630 rows x 4 columns]"
            ],
            "text/html": [
              "\n",
              "  <div id=\"df-53c7f6b7-b1e7-4d4d-a804-a2539406d6d4\">\n",
              "    <div class=\"colab-df-container\">\n",
              "      <div>\n",
              "<style scoped>\n",
              "    .dataframe tbody tr th:only-of-type {\n",
              "        vertical-align: middle;\n",
              "    }\n",
              "\n",
              "    .dataframe tbody tr th {\n",
              "        vertical-align: top;\n",
              "    }\n",
              "\n",
              "    .dataframe thead th {\n",
              "        text-align: right;\n",
              "    }\n",
              "</style>\n",
              "<table border=\"1\" class=\"dataframe\">\n",
              "  <thead>\n",
              "    <tr style=\"text-align: right;\">\n",
              "      <th></th>\n",
              "      <th>image_name</th>\n",
              "      <th>Captions</th>\n",
              "      <th>Best Multimodal Model</th>\n",
              "      <th>Actual</th>\n",
              "    </tr>\n",
              "  </thead>\n",
              "  <tbody>\n",
              "    <tr>\n",
              "      <th>101</th>\n",
              "      <td>317614457_3631142493877242_4333131209344021325...</td>\n",
              "      <td>আমাদের শেষ উৎসবের সূচনা … … …,🫠</td>\n",
              "      <td>4</td>\n",
              "      <td>4</td>\n",
              "    </tr>\n",
              "    <tr>\n",
              "      <th>1178</th>\n",
              "      <td>4492.jpg</td>\n",
              "      <td>ডটিং ভাই, উদীয়মান ট্রেন্ডসেটর: প্রিন্স জর্জ দ...</td>\n",
              "      <td>0</td>\n",
              "      <td>0</td>\n",
              "    </tr>\n",
              "    <tr>\n",
              "      <th>2661</th>\n",
              "      <td>3258.jpg</td>\n",
              "      <td>এমনকি বৃষ্টিপাতের মধ্য দিয়েও আজ প্রাণবন্ত কার...</td>\n",
              "      <td>5</td>\n",
              "      <td>5</td>\n",
              "    </tr>\n",
              "    <tr>\n",
              "      <th>3170</th>\n",
              "      <td>2761.jpg</td>\n",
              "      <td>কেন আপনি হতাশ বোধ করছেন? কুইজ নিন:</td>\n",
              "      <td>6</td>\n",
              "      <td>6</td>\n",
              "    </tr>\n",
              "    <tr>\n",
              "      <th>437</th>\n",
              "      <td>342007953_579707654225265_2380627006671341447_...</td>\n",
              "      <td>কমলদহে\\r\\n\\r\\nবি.দ্র : উক্ত খুমটি অনেক গভীর, স...</td>\n",
              "      <td>0</td>\n",
              "      <td>0</td>\n",
              "    </tr>\n",
              "    <tr>\n",
              "      <th>...</th>\n",
              "      <td>...</td>\n",
              "      <td>...</td>\n",
              "      <td>...</td>\n",
              "      <td>...</td>\n",
              "    </tr>\n",
              "    <tr>\n",
              "      <th>3441</th>\n",
              "      <td>3716.jpg</td>\n",
              "      <td>আন্তর্জাতিক কম্পিউটার ভিশন সামার স্কুল আইসিভিএ...</td>\n",
              "      <td>6</td>\n",
              "      <td>6</td>\n",
              "    </tr>\n",
              "    <tr>\n",
              "      <th>1344</th>\n",
              "      <td>1241.jpg</td>\n",
              "      <td>সব কিছুর মুখোমুখি এবং উত্থান।</td>\n",
              "      <td>1</td>\n",
              "      <td>1</td>\n",
              "    </tr>\n",
              "    <tr>\n",
              "      <th>527</th>\n",
              "      <td>149.jpg</td>\n",
              "      <td>আমি টাম্বলারকে ভালবাসি</td>\n",
              "      <td>0</td>\n",
              "      <td>0</td>\n",
              "    </tr>\n",
              "    <tr>\n",
              "      <th>3197</th>\n",
              "      <td>2862.jpg</td>\n",
              "      <td>চেয়ার, দেয়াল এবং সিলিংগুলি ঢাকা থাকে, আমাদের...</td>\n",
              "      <td>6</td>\n",
              "      <td>6</td>\n",
              "    </tr>\n",
              "    <tr>\n",
              "      <th>1289</th>\n",
              "      <td>458.jpg</td>\n",
              "      <td>একটি পার্কিং স্পেসের উপর কলেজের বাচ্চারা। বুলশ...</td>\n",
              "      <td>3</td>\n",
              "      <td>1</td>\n",
              "    </tr>\n",
              "  </tbody>\n",
              "</table>\n",
              "<p>3630 rows × 4 columns</p>\n",
              "</div>\n",
              "      <button class=\"colab-df-convert\" onclick=\"convertToInteractive('df-53c7f6b7-b1e7-4d4d-a804-a2539406d6d4')\"\n",
              "              title=\"Convert this dataframe to an interactive table.\"\n",
              "              style=\"display:none;\">\n",
              "        \n",
              "  <svg xmlns=\"http://www.w3.org/2000/svg\" height=\"24px\"viewBox=\"0 0 24 24\"\n",
              "       width=\"24px\">\n",
              "    <path d=\"M0 0h24v24H0V0z\" fill=\"none\"/>\n",
              "    <path d=\"M18.56 5.44l.94 2.06.94-2.06 2.06-.94-2.06-.94-.94-2.06-.94 2.06-2.06.94zm-11 1L8.5 8.5l.94-2.06 2.06-.94-2.06-.94L8.5 2.5l-.94 2.06-2.06.94zm10 10l.94 2.06.94-2.06 2.06-.94-2.06-.94-.94-2.06-.94 2.06-2.06.94z\"/><path d=\"M17.41 7.96l-1.37-1.37c-.4-.4-.92-.59-1.43-.59-.52 0-1.04.2-1.43.59L10.3 9.45l-7.72 7.72c-.78.78-.78 2.05 0 2.83L4 21.41c.39.39.9.59 1.41.59.51 0 1.02-.2 1.41-.59l7.78-7.78 2.81-2.81c.8-.78.8-2.07 0-2.86zM5.41 20L4 18.59l7.72-7.72 1.47 1.35L5.41 20z\"/>\n",
              "  </svg>\n",
              "      </button>\n",
              "      \n",
              "  <style>\n",
              "    .colab-df-container {\n",
              "      display:flex;\n",
              "      flex-wrap:wrap;\n",
              "      gap: 12px;\n",
              "    }\n",
              "\n",
              "    .colab-df-convert {\n",
              "      background-color: #E8F0FE;\n",
              "      border: none;\n",
              "      border-radius: 50%;\n",
              "      cursor: pointer;\n",
              "      display: none;\n",
              "      fill: #1967D2;\n",
              "      height: 32px;\n",
              "      padding: 0 0 0 0;\n",
              "      width: 32px;\n",
              "    }\n",
              "\n",
              "    .colab-df-convert:hover {\n",
              "      background-color: #E2EBFA;\n",
              "      box-shadow: 0px 1px 2px rgba(60, 64, 67, 0.3), 0px 1px 3px 1px rgba(60, 64, 67, 0.15);\n",
              "      fill: #174EA6;\n",
              "    }\n",
              "\n",
              "    [theme=dark] .colab-df-convert {\n",
              "      background-color: #3B4455;\n",
              "      fill: #D2E3FC;\n",
              "    }\n",
              "\n",
              "    [theme=dark] .colab-df-convert:hover {\n",
              "      background-color: #434B5C;\n",
              "      box-shadow: 0px 1px 3px 1px rgba(0, 0, 0, 0.15);\n",
              "      filter: drop-shadow(0px 1px 2px rgba(0, 0, 0, 0.3));\n",
              "      fill: #FFFFFF;\n",
              "    }\n",
              "  </style>\n",
              "\n",
              "      <script>\n",
              "        const buttonEl =\n",
              "          document.querySelector('#df-53c7f6b7-b1e7-4d4d-a804-a2539406d6d4 button.colab-df-convert');\n",
              "        buttonEl.style.display =\n",
              "          google.colab.kernel.accessAllowed ? 'block' : 'none';\n",
              "\n",
              "        async function convertToInteractive(key) {\n",
              "          const element = document.querySelector('#df-53c7f6b7-b1e7-4d4d-a804-a2539406d6d4');\n",
              "          const dataTable =\n",
              "            await google.colab.kernel.invokeFunction('convertToInteractive',\n",
              "                                                     [key], {});\n",
              "          if (!dataTable) return;\n",
              "\n",
              "          const docLinkHtml = 'Like what you see? Visit the ' +\n",
              "            '<a target=\"_blank\" href=https://colab.research.google.com/notebooks/data_table.ipynb>data table notebook</a>'\n",
              "            + ' to learn more about interactive tables.';\n",
              "          element.innerHTML = '';\n",
              "          dataTable['output_type'] = 'display_data';\n",
              "          await google.colab.output.renderOutput(dataTable, element);\n",
              "          const docLink = document.createElement('div');\n",
              "          docLink.innerHTML = docLinkHtml;\n",
              "          element.appendChild(docLink);\n",
              "        }\n",
              "      </script>\n",
              "    </div>\n",
              "  </div>\n",
              "  "
            ]
          },
          "metadata": {},
          "execution_count": 82
        }
      ]
    },
    {
      "cell_type": "code",
      "source": [
        "# def actual_label(row):\n",
        "#   return class_names[row]\n",
        "\n",
        "\n",
        "# result_table['Best Multimodal Model']= result_table['Best Multimodal Model'].apply(actual_label)\n",
        "# result_table['Actual'] = dataset['Label'].apply(actual_label)\n",
        "\n",
        "result_table.to_excel(\"results.xlsx\", index = False)\n",
        "results = pd.read_excel(\"results.xlsx\")\n"
      ],
      "metadata": {
        "id": "w8zS_PhAtw-1"
      },
      "execution_count": null,
      "outputs": []
    },
    {
      "cell_type": "code",
      "source": [
        "results['Actual'].value_counts()"
      ],
      "metadata": {
        "colab": {
          "base_uri": "https://localhost:8080/"
        },
        "id": "wmDYKYqswXsh",
        "outputId": "853c97a1-69ac-483f-affe-efc6fd3a5bb2"
      },
      "execution_count": null,
      "outputs": [
        {
          "output_type": "execute_result",
          "data": {
            "text/plain": [
              "0    928\n",
              "6    782\n",
              "4    566\n",
              "5    444\n",
              "1    421\n",
              "3    259\n",
              "2    230\n",
              "Name: Actual, dtype: int64"
            ]
          },
          "metadata": {},
          "execution_count": 84
        }
      ]
    },
    {
      "cell_type": "code",
      "source": [
        "\n",
        "def con_mat(true,pred):\n",
        "  cm = confusion_matrix(y_train,y_pred,labels=[0,1,2,3,4,5,6])\n",
        "  #sns.set()\n",
        "  plt.figure(figsize =(10, 10))\n",
        "  ax = plt.subplot()\n",
        "  sns.heatmap(cm, annot=True,fmt=\"d\",cmap= 'YlGn', ax = ax,annot_kws={\"size\": 12},) #annot=True to annotate cells\n",
        "  # labels, title and ticks\n",
        "  ax.set_xlabel('Predicted labels',fontsize=12)\n",
        "  ax.set_ylabel('True labels',fontsize=12) \n",
        "  print ('=== ',f\"Confusion Matrix\")\n",
        "  #ax.set_title(f'Confusion Matrix of {model_name}',fontsize=10) \n",
        "  ax.xaxis.set_ticklabels(class_names,fontsize=12, rotation=45,); ax.yaxis.set_ticklabels(class_names,fontsize=12, rotation=60);\n",
        "  ax.xaxis.tick_top()\n",
        "  # plt.savefig(results_path + f\"{model_name}.png\",bbox_inches='tight',dpi =800)"
      ],
      "metadata": {
        "id": "O5ZfwOKRrGTu"
      },
      "execution_count": null,
      "outputs": []
    },
    {
      "cell_type": "code",
      "source": [
        "\n",
        "# model_names = ['Multimodal Model']\n",
        "#class_names = ['Negative','Neutral','Positive']"
      ],
      "metadata": {
        "id": "2pAZS4rwrMet"
      },
      "execution_count": null,
      "outputs": []
    },
    {
      "cell_type": "code",
      "source": [
        "con_mat(results['Actual'],results['Best Multimodal Model'])"
      ],
      "metadata": {
        "colab": {
          "base_uri": "https://localhost:8080/",
          "height": 917
        },
        "id": "aA6pZo7Hr1JD",
        "outputId": "116b9dff-f005-4478-c7a9-f16e1ce070ef"
      },
      "execution_count": null,
      "outputs": [
        {
          "output_type": "stream",
          "name": "stdout",
          "text": [
            "===  Confusion Matrix\n"
          ]
        },
        {
          "output_type": "display_data",
          "data": {
            "text/plain": [
              "<Figure size 1000x1000 with 2 Axes>"
            ],
            "image/png": "[encoded data removed]"
          },
          "metadata": {}
        }
      ]
    },
    {
      "cell_type": "code",
      "source": [
        "# pred_value = np.array(y_pred)\n",
        "# y_pred = pd.DataFrame(pred_value, columns=['Label'])\n",
        "# id = pd.DataFrame(testset['Id'])\n",
        "# submit_df = pd.concat([id, y_pred], axis=1).set_index('Id')\n",
        "# submit_df.to_csv('task1submit.csv')"
      ],
      "metadata": {
        "id": "mein8OyWJkzI"
      },
      "execution_count": null,
      "outputs": []
    }
  ]
}